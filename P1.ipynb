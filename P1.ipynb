{
 "cells": [
  {
   "cell_type": "markdown",
   "metadata": {},
   "source": [
    "# Self-Driving Car Engineer Nanodegree\n",
    "\n",
    "\n",
    "## Project: **Finding Lane Lines on the Road** \n",
    "***\n",
    "In this project, you will use the tools you learned about in the lesson to identify lane lines on the road.  You can develop your pipeline on a series of individual images, and later apply the result to a video stream (really just a series of images). Check out the video clip \"raw-lines-example.mp4\" (also contained in this repository) to see what the output should look like after using the helper functions below. \n",
    "\n",
    "Once you have a result that looks roughly like \"raw-lines-example.mp4\", you'll need to get creative and try to average and/or extrapolate the line segments you've detected to map out the full extent of the lane lines.  You can see an example of the result you're going for in the video \"P1_example.mp4\".  Ultimately, you would like to draw just one line for the left side of the lane, and one for the right.\n",
    "\n",
    "In addition to implementing code, there is a brief writeup to complete. The writeup should be completed in a separate file, which can be either a markdown file or a pdf document. There is a [write up template](https://github.com/udacity/CarND-LaneLines-P1/blob/master/writeup_template.md) that can be used to guide the writing process. Completing both the code in the Ipython notebook and the writeup template will cover all of the [rubric points](https://review.udacity.com/#!/rubrics/322/view) for this project.\n",
    "\n",
    "---\n",
    "Let's have a look at our first image called 'test_images/solidWhiteRight.jpg'.  Run the 2 cells below (hit Shift-Enter or the \"play\" button above) to display the image.\n",
    "\n",
    "**Note: If, at any point, you encounter frozen display windows or other confounding issues, you can always start again with a clean slate by going to the \"Kernel\" menu above and selecting \"Restart & Clear Output\".**\n",
    "\n",
    "---"
   ]
  },
  {
   "cell_type": "markdown",
   "metadata": {},
   "source": [
    "**The tools you have are color selection, region of interest selection, grayscaling, Gaussian smoothing, Canny Edge Detection and Hough Tranform line detection.  You  are also free to explore and try other techniques that were not presented in the lesson.  Your goal is piece together a pipeline to detect the line segments in the image, then average/extrapolate them and draw them onto the image for display (as below).  Once you have a working pipeline, try it out on the video stream below.**\n",
    "\n",
    "---\n",
    "\n",
    "<figure>\n",
    " <img src=\"line-segments-example.jpg\" width=\"380\" alt=\"Combined Image\" />\n",
    " <figcaption>\n",
    " <p></p> \n",
    " <p style=\"text-align: center;\"> Your output should look something like this (above) after detecting line segments using the helper functions below </p> \n",
    " </figcaption>\n",
    "</figure>\n",
    " <p></p> \n",
    "<figure>\n",
    " <img src=\"laneLines_thirdPass.jpg\" width=\"380\" alt=\"Combined Image\" />\n",
    " <figcaption>\n",
    " <p></p> \n",
    " <p style=\"text-align: center;\"> Your goal is to connect/average/extrapolate line segments to get output like this</p> \n",
    " </figcaption>\n",
    "</figure>"
   ]
  },
  {
   "cell_type": "markdown",
   "metadata": {},
   "source": [
    "**Run the cell below to import some packages.  If you get an `import error` for a package you've already installed, try changing your kernel (select the Kernel menu above --> Change Kernel).  Still have problems?  Try relaunching Jupyter Notebook from the terminal prompt.  Also, see [this forum post](https://carnd-forums.udacity.com/cq/viewquestion.action?spaceKey=CAR&id=29496372&questionTitle=finding-lanes---import-cv2-fails-even-though-python-in-the-terminal-window-has-no-problem-with-import-cv2) for more troubleshooting tips.**  "
   ]
  },
  {
   "cell_type": "markdown",
   "metadata": {},
   "source": [
    "## Import Packages"
   ]
  },
  {
   "cell_type": "code",
   "execution_count": null,
   "metadata": {
    "collapsed": false
   },
   "outputs": [],
   "source": [
    "#importing some useful packages\n",
    "import matplotlib.pyplot as plt\n",
    "import matplotlib.image as mpimg\n",
    "import numpy as np\n",
    "import cv2\n",
    "%matplotlib inline"
   ]
  },
  {
   "cell_type": "markdown",
   "metadata": {},
   "source": [
    "## Read in an Image"
   ]
  },
  {
   "cell_type": "code",
   "execution_count": null,
   "metadata": {
    "collapsed": false
   },
   "outputs": [],
   "source": [
    "#reading in an image\n",
    "image = mpimg.imread('test_images/solidWhiteRight.jpg')\n",
    "\n",
    "#printing out some stats and plotting\n",
    "print('This image is:', type(image), 'with dimesions:', image.shape)\n",
    "plt.imshow(image)  # if you wanted to show a single color channel image called 'gray', for example, call as plt.imshow(gray, cmap='gray')"
   ]
  },
  {
   "cell_type": "markdown",
   "metadata": {},
   "source": [
    "## Ideas for Lane Detection Pipeline"
   ]
  },
  {
   "cell_type": "markdown",
   "metadata": {},
   "source": [
    "**Some OpenCV functions (beyond those introduced in the lesson) that might be useful for this project are:**\n",
    "\n",
    "`cv2.inRange()` for color selection  \n",
    "`cv2.fillPoly()` for regions selection  \n",
    "`cv2.line()` to draw lines on an image given endpoints  \n",
    "`cv2.addWeighted()` to coadd / overlay two images\n",
    "`cv2.cvtColor()` to grayscale or change color\n",
    "`cv2.imwrite()` to output images to file  \n",
    "`cv2.bitwise_and()` to apply a mask to an image\n",
    "\n",
    "**Check out the OpenCV documentation to learn about these and discover even more awesome functionality!**"
   ]
  },
  {
   "cell_type": "markdown",
   "metadata": {},
   "source": [
    "## Helper Functions"
   ]
  },
  {
   "cell_type": "markdown",
   "metadata": {},
   "source": [
    "Below are some helper functions to help get you started. They should look familiar from the lesson!"
   ]
  },
  {
   "cell_type": "code",
   "execution_count": null,
   "metadata": {
    "collapsed": false
   },
   "outputs": [],
   "source": [
    "import math\n",
    "\n",
    "def grayscale(img):\n",
    "    \"\"\"Applies the Grayscale transform\n",
    "    This will return an image with only one color channel\n",
    "    but NOTE: to see the returned image as grayscale\n",
    "    (assuming your grayscaled image is called 'gray')\n",
    "    you should call plt.imshow(gray, cmap='gray')\"\"\"\n",
    "    return cv2.cvtColor(img, cv2.COLOR_RGB2GRAY)\n",
    "    # Or use BGR2GRAY if you read an image with cv2.imread()\n",
    "    # return cv2.cvtColor(img, cv2.COLOR_BGR2GRAY)\n",
    "    \n",
    "def canny(img, low_threshold, high_threshold):\n",
    "    \"\"\"Applies the Canny transform\"\"\"\n",
    "    return cv2.Canny(img, low_threshold, high_threshold)\n",
    "\n",
    "def gaussian_blur(img, kernel_size):\n",
    "    \"\"\"Applies a Gaussian Noise kernel\"\"\"\n",
    "    return cv2.GaussianBlur(img, (kernel_size, kernel_size), 0)\n",
    "\n",
    "def region_of_interest(img, vertices):\n",
    "    \"\"\"\n",
    "    Applies an image mask.\n",
    "    \n",
    "    Only keeps the region of the image defined by the polygon\n",
    "    formed from `vertices`. The rest of the image is set to black.\n",
    "    \"\"\"\n",
    "    #defining a blank mask to start with\n",
    "    mask = np.zeros_like(img)   \n",
    "    \n",
    "    #defining a 3 channel or 1 channel color to fill the mask with depending on the input image\n",
    "    if len(img.shape) > 2:\n",
    "        channel_count = img.shape[2]  # i.e. 3 or 4 depending on your image\n",
    "        ignore_mask_color = (255,) * channel_count\n",
    "    else:\n",
    "        ignore_mask_color = 255\n",
    "        \n",
    "    #filling pixels inside the polygon defined by \"vertices\" with the fill color    \n",
    "    cv2.fillPoly(mask, vertices, ignore_mask_color)\n",
    "    \n",
    "    #returning the image only where mask pixels are nonzero\n",
    "    masked_image = cv2.bitwise_and(img, mask)\n",
    "    return masked_image\n",
    "\n",
    "def clear_globals():\n",
    "    global all_left_x1s, all_left_x2s, all_right_x1s, all_right_x2s\n",
    "    all_left_x1s = []\n",
    "    all_left_x2s = []\n",
    "    all_right_x1s = []\n",
    "    all_right_x2s = []\n",
    "\n",
    "def draw_lines(img, lines, horizon=0, bottom=0, prune=False, extrapolate=False, average_frames=False, color=[255, 0, 0], thickness=2, debug=False):\n",
    "    \"\"\"\n",
    "    NOTE: this is the function you might want to use as a starting point once you want to \n",
    "    average/extrapolate the line segments you detect to map out the full\n",
    "    extent of the lane (going from the result shown in raw-lines-example.mp4\n",
    "    to that shown in P1_example.mp4).  \n",
    "    \n",
    "    Think about things like separating line segments by their \n",
    "    slope ((y2-y1)/(x2-x1)) to decide which segments are part of the left\n",
    "    line vs. the right line.  Then, you can average the position of each of \n",
    "    the lines and extrapolate to the top and bottom of the lane.\n",
    "    \n",
    "    This function draws `lines` with `color` and `thickness`.    \n",
    "    Lines are drawn on the image inplace (mutates the image).\n",
    "    If you want to make the lines semi-transparent, think about combining\n",
    "    this function with the weighted_img() function below\n",
    "    \"\"\"\n",
    "    \n",
    "    # some defaults if not specified\n",
    "    if horizon == 0:\n",
    "        horizon = int(img.shape[0]/2)\n",
    "    if bottom == 0:\n",
    "        bottom = img.shape[0]\n",
    "    if debug:\n",
    "        print(\"horizon = {0}\\nbottom = {1}\".format(horizon,bottom))\n",
    "        \n",
    "    # define local lists, used to collect all extended Hough lines per side\n",
    "    left_x1s = []\n",
    "    left_x2s = []\n",
    "    left_weights = []\n",
    "    right_x1s = []\n",
    "    right_x2s = []\n",
    "    right_weights = []\n",
    "    \n",
    "    # define global lists, used to average extended Hough lines across frames\n",
    "    if average_frames and 'all_left_x1s' not in globals():\n",
    "        clear_globals()\n",
    "        \n",
    "    for line in lines:\n",
    "        for x1,y1,x2,y2 in line:\n",
    "            # calculate some interesting parameters for each line y=mx+b\n",
    "            m, b = np.polyfit((x1,x2),(y1,y2),1)\n",
    "            line_len = int(np.sqrt((x2-x1)**2 + (y2-y1)**2))\n",
    "            xhorizon = int((horizon-b)/m)\n",
    "            xbottom = int((bottom-b)/m)\n",
    "            \n",
    "            # prune lines with unexpected slopes if desired\n",
    "            if prune:\n",
    "                ma = abs(m)\n",
    "                if debug:\n",
    "                    print(\"({0},{1})->({2},{3}) m={4} b={5}\".format(x1,y1,x2,y2,m,b))\n",
    "                if ma < 0.2 or ma > 0.8:\n",
    "                    continue\n",
    "                    \n",
    "            if not extrapolate:\n",
    "                # just add every line if not extrapolating\n",
    "                cv2.line(img, (x1, y1), (x2, y2), color, thickness)\n",
    "            else:\n",
    "                # find left & right hand lanes\n",
    "                xcenter = img.shape[1]/2\n",
    "                if x1 < xcenter and x2 < xcenter:\n",
    "                    # left hand lane\n",
    "                    left_x1s.append(xbottom)\n",
    "                    left_x2s.append(xhorizon)\n",
    "                    left_weights.append(line_len)\n",
    "                    if debug:\n",
    "                        print(\"L: ({0},{1})->({2},{3}) w={4}\".format(xbottom,bottom,xhorizon,horizon,line_len))\n",
    "                elif x1 > xcenter and x2 > xcenter:\n",
    "                    # right hand lane\n",
    "                    right_x1s.append(xbottom)\n",
    "                    right_x2s.append(xhorizon)\n",
    "                    right_weights.append(line_len)\n",
    "                    if debug:\n",
    "                        print(\"R: ({0},{1})->({2},{3}) w={4}\".format(xbottom,bottom,xhorizon,horizon,line_len))\n",
    "                else:\n",
    "                    # why is it crossing over?\n",
    "                    print(\"ERROR: line crossing sides: ({0},{1}) -> ({2},{3})\".format(x1,y1,x2,y2))\n",
    "                    continue\n",
    "                \n",
    "    if extrapolate:\n",
    "        # draw left hand extrapolated lane\n",
    "        if len(left_weights) > 0:  # sometimes, Hough gives me no length - weird\n",
    "            x1avg = int(sum(x1*weight for x1,weight in zip(left_x1s,left_weights))/sum(left_weights))\n",
    "            x2avg = int(sum(x2*weight for x2,weight in zip(left_x2s,left_weights))/sum(left_weights))\n",
    "            if average_frames:\n",
    "                all_left_x1s.append(x1avg)\n",
    "                all_left_x2s.append(x2avg)\n",
    "                frame_weights = [10,10,10,5,5,5,2,2,2]   # current frame + previous 8 frames\n",
    "                x1frameavg = int(sum(x1*weight for x1,weight in zip(reversed(all_left_x1s[-9:]),frame_weights))/sum(frame_weights[:len(all_left_x1s)]))\n",
    "                x2frameavg = int(sum(x2*weight for x2,weight in zip(reversed(all_left_x2s[-9:]),frame_weights))/sum(frame_weights[:len(all_left_x2s)]))\n",
    "            else:\n",
    "                x1frameavg,x2frameavg = x1avg,x2avg\n",
    "            if debug:\n",
    "                print(\"L_avg: ({0},{1})->({2},{3})\".format(x1avg,bottom,x2avg,horizon))\n",
    "                print(\"LF_avg: ({0},{1})->({2},{3})\".format(x1frameavg,bottom,x2frameavg,horizon))\n",
    "            cv2.line(img, (x1frameavg, bottom), (x2frameavg, horizon), color, thickness)\n",
    "        elif average_frames:   # just out and out cheating by copying last frame if we lose one\n",
    "            print(\"WARNING: no left lanes in frame {0}\".format(len(all_left_x1s)-1))\n",
    "            cv2.line(img, (all_left_x1s[-1], bottom), (all_left_x2s[-1], horizon), color, thickness)\n",
    "        # draw right hand extrapolated lane\n",
    "        if len(right_weights) > 0:  # sometimes, Hough gives me no length - weird\n",
    "            x1avg = int(sum(x1*weight for x1,weight in zip(right_x1s,right_weights))/sum(right_weights))\n",
    "            x2avg = int(sum(x2*weight for x2,weight in zip(right_x2s,right_weights))/sum(right_weights))\n",
    "            if average_frames:\n",
    "                all_right_x1s.append(x1avg)\n",
    "                all_right_x2s.append(x2avg)\n",
    "                frame_weights = [10,10,10,5,5,5,2,2,2]   # current frame + previous 8 frames\n",
    "                x1frameavg = int(sum(x1*weight for x1,weight in zip(reversed(all_right_x1s[-9:]),frame_weights))/sum(frame_weights[:len(all_right_x1s)]))\n",
    "                x2frameavg = int(sum(x2*weight for x2,weight in zip(reversed(all_right_x2s[-9:]),frame_weights))/sum(frame_weights[:len(all_right_x2s)]))\n",
    "            else:\n",
    "                x1frameavg,x2frameavg = x1avg,x2avg\n",
    "            if debug:\n",
    "                print(\"R_avg: ({0},{1})->({2},{3})\".format(x1avg,bottom,x2avg,horizon))\n",
    "                print(\"RF_avg: ({0},{1})->({2},{3})\".format(x1frameavg,bottom,x2frameavg,horizon))\n",
    "            cv2.line(img, (x1frameavg, bottom), (x2frameavg, horizon), color, thickness)\n",
    "        elif average_frames:   # just out and out cheating by copying last frame if we lose one\n",
    "            print(\"WARNING: no right lanes in frame {0}\".format(len(all_right_x1s)-1))\n",
    "            cv2.line(img, (all_right_x1s[-1], bottom), (all_right_x2s[-1], horizon), color, thickness)\n",
    "\n",
    "def hough_lines(img, rho, theta, threshold, min_line_len, max_line_gap):\n",
    "    \"\"\"\n",
    "    `img` should be the output of a Canny transform.\n",
    "        \n",
    "    Returns an image with hough lines drawn.\n",
    "    \"\"\"\n",
    "    lines = cv2.HoughLinesP(img, rho, theta, threshold, np.array([]), minLineLength=min_line_len, maxLineGap=max_line_gap)\n",
    "    line_img = np.zeros((img.shape[0], img.shape[1], 3), dtype=np.uint8)\n",
    "    if lines is not None: # test for empty Hough lines\n",
    "        draw_lines(line_img, lines, thickness=10)\n",
    "    return line_img\n",
    "\n",
    "# Python 3 has support for cool math symbols.\n",
    "\n",
    "def weighted_img(img, initial_img, α=0.8, β=1., λ=0.):\n",
    "    \"\"\"\n",
    "    `img` is the output of the hough_lines(), An image with lines drawn on it.\n",
    "    Should be a blank image (all black) with lines drawn on it.\n",
    "    \n",
    "    `initial_img` should be the image before any processing.\n",
    "    \n",
    "    The result image is computed as follows:\n",
    "    \n",
    "    initial_img * α + img * β + λ\n",
    "    NOTE: initial_img and img must be the same shape!\n",
    "    \"\"\"\n",
    "    return cv2.addWeighted(initial_img, α, img, β, λ)\n",
    "\n",
    "def show_image(location, title, img):\n",
    "    plt.subplot(*location)\n",
    "    plt.title(title)\n",
    "    if len(img.shape) == 3:\n",
    "        plt.imshow(img)\n",
    "    else:\n",
    "        plt.imshow(img, cmap='gray')"
   ]
  },
  {
   "cell_type": "markdown",
   "metadata": {},
   "source": [
    "## Test Images\n",
    "\n",
    "Build your pipeline to work on the images in the directory \"test_images\"  \n",
    "**You should make sure your pipeline works well on these images before you try the videos.**"
   ]
  },
  {
   "cell_type": "code",
   "execution_count": null,
   "metadata": {
    "collapsed": false
   },
   "outputs": [],
   "source": [
    "import os\n",
    "os.listdir(\"test_images/\")\n",
    "# create output directory\n",
    "if not os.path.exists(\"test_output_images/\"):\n",
    "    os.makedirs(\"test_output_images/\")"
   ]
  },
  {
   "cell_type": "markdown",
   "metadata": {},
   "source": [
    "## Build a Lane Finding Pipeline\n",
    "\n"
   ]
  },
  {
   "cell_type": "markdown",
   "metadata": {},
   "source": [
    "Build the pipeline and run your solution on all test_images. Make copies into the test_images directory, and you can use the images in your writeup report.\n",
    "\n",
    "Try tuning the various parameters, especially the low and high Canny thresholds as well as the Hough lines parameters."
   ]
  },
  {
   "cell_type": "code",
   "execution_count": null,
   "metadata": {
    "collapsed": false,
    "scrolled": false
   },
   "outputs": [],
   "source": [
    "# TODO: Build your pipeline that will draw lane lines on the test_images\n",
    "# then save them to the test_images directory.\n",
    "\n",
    "def find_lane_lines(img,debug=False,video=False,show_hough=False,print_pics=False,detect_lane_colors=True,debug_name=\"\"):\n",
    "    if debug:\n",
    "        print(\"initial: {0}\".format(img.shape))\n",
    "\n",
    "    # if color & RGBA\n",
    "    if len(img.shape) > 2 and img.shape[2] == 4:\n",
    "        # convert the image from RGBA2RGB\n",
    "        img = cv2.cvtColor(img, cv2.COLOR_RGBA2RGB)\n",
    "        if debug:\n",
    "            print(\"RGBA->RGB: {0}\".format(img.shape))\n",
    "\n",
    "    if detect_lane_colors:\n",
    "        # convert to HSV\n",
    "        hsv = cv2.cvtColor(img,cv2.COLOR_RGB2HSV)\n",
    "    \n",
    "        # select white pixels\n",
    "        lower_white = np.array([0,0,180], dtype=np.uint8) # HSV (0-180, 0-255, 0-255)\n",
    "        upper_white = np.array([255,25,255], dtype=np.uint8) #HSV\n",
    "        white = cv2.inRange(hsv,lower_white,upper_white)\n",
    "        # select yellow pixels (traffic yellow is 50/360 degrees, 100% sat, 98% value)\n",
    "        lower_yellow = np.array([18,120,150], dtype=np.uint8) # HSV\n",
    "        upper_yellow = np.array([30,255,255], dtype=np.uint8) # HSV\n",
    "        yellow = cv2.inRange(hsv,lower_yellow,upper_yellow)\n",
    "        \n",
    "        color_mask = cv2.bitwise_or(white,yellow) # could return this as gray, but...\n",
    "        gray_img = grayscale(img)\n",
    "        # instead, let's filter out some things we don't care about\n",
    "        # by only taking bright lanes markers\n",
    "        # who knows how it'll work in the rain or dark\n",
    "        gray_mask = cv2.bitwise_and(gray_img,color_mask)\n",
    "        retval,gray = cv2.threshold(gray_mask,180,255,cv2.THRESH_BINARY)\n",
    "        ### why doesn't this work???\n",
    "        ### gray = cv2.inRange(gray_mask,180,255)\n",
    "        # define our parameters for Canny\n",
    "        low_threshold = 180   # remember, we already filtered out anything below 180\n",
    "        high_threshold = 240  # everything's so shiny and bright in this grayscale!!!\n",
    "    else:\n",
    "        # grayscale the image\n",
    "        gray = grayscale(img)\n",
    "        # define our parameters for Canny\n",
    "        low_threshold = 70\n",
    "        high_threshold = 210\n",
    "\n",
    "    if debug:\n",
    "        print(\"gray: {0}\".format(img.shape))\n",
    "\n",
    "    # define a kernel size and apply Gaussian smoothing\n",
    "    kernel_size = 3\n",
    "    blur = gaussian_blur(gray, kernel_size)\n",
    "        \n",
    "    # apply Canny\n",
    "    edges = canny(blur, low_threshold, high_threshold)\n",
    "        \n",
    "    # next we'll create a masked edges image\n",
    "    # this time we are defining a four sided polygon to mask\n",
    "    img_height, img_width = img.shape[0:2]\n",
    "    center = (int(img_width/2),int(img_height/2))\n",
    "    # ideally, this would be a visually detected horizon,\n",
    "    # but for now, just somewhere below the center\n",
    "    horizon_line = int(center[1]*1.25)\n",
    "    # ideally, this would visually detect and exclude the hoodline,\n",
    "    # but for now, just the bottom of the frame\n",
    "    bottom_line = img_height\n",
    "    # ideally, these would be based on expected lane widths at each y coordinate,\n",
    "    # but for now, just use some percentages based on frame size\n",
    "    bottom_left_x = int(img_width*0.10)\n",
    "    bottom_right_x = int(img_width*0.93)\n",
    "    horizon_left_x = int(center[0]*0.9)\n",
    "    horizon_right_x = int(center[0]*1.1)\n",
    "    vertices = np.array([[(bottom_left_x, bottom_line),\n",
    "                          (horizon_left_x, horizon_line),\n",
    "                          (horizon_right_x, horizon_line),\n",
    "                          (bottom_right_x, bottom_line)]], dtype=np.int32)\n",
    "    masked_edges = region_of_interest(edges, vertices)\n",
    "        \n",
    "    # define the Hough transform parameters\n",
    "    rho = 1\n",
    "    theta = np.pi/180\n",
    "    threshold = 20              # somewhat high threshold so we get rid of Bott's dots\n",
    "    min_line_length = 15        # has to be small to pick up dashed lines further out\n",
    "    max_line_gap = 20           # this is somewhat high, mainly to pick up lanes with bad lighting further out\n",
    "    \n",
    "    # run Hough on edge detected image and draw lines on the blank\n",
    "    #lines = hough_lines(masked_edges, rho, theta, threshold, min_line_length, max_line_gap)\n",
    "    hough = cv2.HoughLinesP(masked_edges, rho, theta, threshold, np.array([]), minLineLength=min_line_length, maxLineGap=max_line_gap)\n",
    "    hlines = np.zeros((masked_edges.shape[0], masked_edges.shape[1], 3), dtype=np.uint8)\n",
    "    xlines = np.zeros((masked_edges.shape[0], masked_edges.shape[1], 3), dtype=np.uint8)\n",
    "    if hough is not None: # test for empty Hough lines\n",
    "        draw_lines(xlines, hough, extrapolate=True, average_frames=video,\n",
    "                   horizon=horizon_line, bottom=bottom_line, prune=True,\n",
    "                   thickness=10, debug=debug)\n",
    "        if show_hough:\n",
    "            draw_lines(hlines, hough, color=[0,0,255], prune=True, thickness=12, debug=debug)\n",
    "\n",
    "\n",
    "    # draw the lines on the edge image\n",
    "    combo = weighted_img(img, xlines)\n",
    "    if show_hough:\n",
    "        combo = weighted_img(combo, hlines)\n",
    "    \n",
    "    if print_pics:\n",
    "        # display all initial, intermediate, and final pictures in a grid\n",
    "        plt.figure(figsize=[16, 5])\n",
    "        for i, imgname in enumerate(['img', 'gray', 'masked_edges', 'hlines', 'xlines', 'combo']):\n",
    "            show_image((2, 3, i+1), debug_name+\" \"+imgname, eval(imgname))\n",
    "        \n",
    "    return combo\n",
    "\n",
    "# go through all test_images\n",
    "clear_globals()\n",
    "for file in os.scandir(\"test_images\"):\n",
    "    if not file.name.startswith('.') and file.is_file():\n",
    "        print(\"processing {0}...\".format(file.name))\n",
    "\n",
    "        # read in the image\n",
    "        image = mpimg.imread(file.path)\n",
    "        \n",
    "        # take it through the pipeline\n",
    "        output = find_lane_lines(image,debug=False,show_hough=False,print_pics=False,debug_name=file.name)\n",
    "        \n",
    "        # write the resulting image\n",
    "        outfile = 'test_output_images/output_' + file.name\n",
    "        mpimg.imsave(outfile,output)\n",
    "       "
   ]
  },
  {
   "cell_type": "markdown",
   "metadata": {},
   "source": [
    "## Test on Videos\n",
    "\n",
    "You know what's cooler than drawing lanes over images? Drawing lanes over video!\n",
    "\n",
    "We can test our solution on two provided videos:\n",
    "\n",
    "`solidWhiteRight.mp4`\n",
    "\n",
    "`solidYellowLeft.mp4`\n",
    "\n",
    "**Note: if you get an `import error` when you run the next cell, try changing your kernel (select the Kernel menu above --> Change Kernel).  Still have problems?  Try relaunching Jupyter Notebook from the terminal prompt. Also, check out [this forum post](https://carnd-forums.udacity.com/questions/22677062/answers/22677109) for more troubleshooting tips.**\n",
    "\n",
    "**If you get an error that looks like this:**\n",
    "```\n",
    "NeedDownloadError: Need ffmpeg exe. \n",
    "You can download it by calling: \n",
    "imageio.plugins.ffmpeg.download()\n",
    "```\n",
    "**Follow the instructions in the error message and check out [this forum post](https://carnd-forums.udacity.com/display/CAR/questions/26218840/import-videofileclip-error) for more troubleshooting tips across operating systems.**"
   ]
  },
  {
   "cell_type": "code",
   "execution_count": null,
   "metadata": {
    "collapsed": true
   },
   "outputs": [],
   "source": [
    "# Import everything needed to edit/save/watch video clips\n",
    "from moviepy.editor import VideoFileClip\n",
    "from IPython.display import HTML"
   ]
  },
  {
   "cell_type": "code",
   "execution_count": null,
   "metadata": {
    "collapsed": true
   },
   "outputs": [],
   "source": [
    "def process_image(image):\n",
    "    # NOTE: The output you return should be a color image (3 channel) for processing video below\n",
    "    # TODO: put your pipeline here,\n",
    "    # you should return the final output (image where lines are drawn on lanes)\n",
    "\n",
    "    result = find_lane_lines(image,show_hough=False,debug=False,video=True)\n",
    "    \n",
    "    return result"
   ]
  },
  {
   "cell_type": "markdown",
   "metadata": {},
   "source": [
    "Let's try the one with the solid white lane on the right first ..."
   ]
  },
  {
   "cell_type": "code",
   "execution_count": null,
   "metadata": {
    "collapsed": false
   },
   "outputs": [],
   "source": [
    "clear_globals()\n",
    "white_output = 'white.mp4'\n",
    "clip1 = VideoFileClip(\"solidWhiteRight.mp4\")\n",
    "white_clip = clip1.fl_image(process_image) #NOTE: this function expects color images!!\n",
    "%time white_clip.write_videofile(white_output, audio=False)"
   ]
  },
  {
   "cell_type": "markdown",
   "metadata": {},
   "source": [
    "Play the video inline, or if you prefer find the video in your filesystem (should be in the same directory) and play it in your video player of choice."
   ]
  },
  {
   "cell_type": "code",
   "execution_count": null,
   "metadata": {
    "collapsed": false
   },
   "outputs": [],
   "source": [
    "HTML(\"\"\"\n",
    "<video width=\"960\" height=\"540\" controls>\n",
    "  <source src=\"{0}\">\n",
    "</video>\n",
    "\"\"\".format(white_output))"
   ]
  },
  {
   "cell_type": "markdown",
   "metadata": {},
   "source": [
    "## Improve the draw_lines() function\n",
    "\n",
    "**At this point, if you were successful with making the pipeline and tuning parameters, you probably have the Hough line segments drawn onto the road, but what about identifying the full extent of the lane and marking it clearly as in the example video (P1_example.mp4)?  Think about defining a line to run the full length of the visible lane based on the line segments you identified with the Hough Transform. As mentioned previously, try to average and/or extrapolate the line segments you've detected to map out the full extent of the lane lines. You can see an example of the result you're going for in the video \"P1_example.mp4\".**\n",
    "\n",
    "**Go back and modify your draw_lines function accordingly and try re-running your pipeline. The new output should draw a single, solid line over the left lane line and a single, solid line over the right lane line. The lines should start from the bottom of the image and extend out to the top of the region of interest.**"
   ]
  },
  {
   "cell_type": "markdown",
   "metadata": {},
   "source": [
    "Now for the one with the solid yellow lane on the left. This one's more tricky!"
   ]
  },
  {
   "cell_type": "code",
   "execution_count": null,
   "metadata": {
    "collapsed": false
   },
   "outputs": [],
   "source": [
    "clear_globals()\n",
    "yellow_output = 'yellow.mp4'\n",
    "clip2 = VideoFileClip('solidYellowLeft.mp4')\n",
    "yellow_clip = clip2.fl_image(process_image)\n",
    "%time yellow_clip.write_videofile(yellow_output, audio=False)"
   ]
  },
  {
   "cell_type": "code",
   "execution_count": null,
   "metadata": {
    "collapsed": false
   },
   "outputs": [],
   "source": [
    "HTML(\"\"\"\n",
    "<video width=\"960\" height=\"540\" controls>\n",
    "  <source src=\"{0}\">\n",
    "</video>\n",
    "\"\"\".format(yellow_output))"
   ]
  },
  {
   "cell_type": "markdown",
   "metadata": {},
   "source": [
    "## Writeup and Submission\n",
    "\n",
    "If you're satisfied with your video outputs, it's time to make the report writeup in a pdf or markdown file. Once you have this Ipython notebook ready along with the writeup, it's time to submit for review! Here is a [link](https://github.com/udacity/CarND-LaneLines-P1/blob/master/writeup_template.md) to the writeup template file.\n"
   ]
  },
  {
   "cell_type": "markdown",
   "metadata": {},
   "source": [
    "My pipeline is essentially the same as the one in the lessons, with the only big change being that I replaced the initial grayscale image before the Canny edge detection with a color selection scheme to help weed out more false positives. This allowed me to simplify the Canny edge detector and Hough line segment detector parameters to get reasonable results though there's still room for improvement here. Specifically, there are three frames across the three videos that don't have lanes detected on one side or the other and so I have to hack around it by leveraging the inter-frame average. I display warnings for those frames.\n",
    "\n",
    "For the post-Hough line filtering, I looked at the lane lengths and used those as weights within each frame to decide which lines to extend, the idea being the longer lines right in front of the car are more reliable indicators of the current direction than something further out. And, then, to reduce jitter from frame to frame, I do a weighted average of the current frame with the last 8 frames, if they exist.\n",
    "\n",
    "I decided to take on the challenge from the very outset and so I created still pictures of some useful scenes from the video and copied them into test_images. Realizing that the extents of the challenge pictures were different than the regular images, I knew I had to come up with a configurable region of interest (ROI). The only oddball thing was that the solidYellowLeft.mp4 video starts out with the left yellow lane much closer to the left edge of the frame than in the still images so calibrating the percentages to the stills didn't work initially and I had to expand the bottom part of the polygon to address the beginning of the video. There's clearly room for improvement in the technique.\n",
    "\n",
    "Staying with the ROI, I currently don't crop out the hoodline that's in the bottom of the frames in the challenge video. Doing some sort of average lane length and car edge detection to dynamically calculate the ROI would be useful. Even better would be a camera calibration operation before we start and possibly every once in a while if this is not a well mounted camera. This calibration could even correct for pitch and roll of the camera and rotate and/or crop the image appropriately. The same thing applies to finding the horizon line. Shouldn't be too hard, if I knew the right vision techniques, to find it automatically using OpenCV.\n",
    "\n",
    "Beyond those items, where this algorithm can go wrong is with tight curves. To fix this, instead of using Hough to find lines, we'd need to somehow find splines to fit the lanes. This algorithm will also fail with any lane changes or white or yellow car changing lanes right in front of us (i.e., under the horizon). This may be fixable with a larger frame-to-frame average. Of course, to fix all of this the right way, one can imagine the ROI calculation, the Canny and Hough parameters, and the intra- and inter-frame averaging can be done much better with ML algorithms to improve them, but I'm sure that's what this class is about.\n",
    "\n",
    "One last comment about my code is that there are a lot of performanc issues. For one, the \"frame rate\" on my 12\" MacBook is about 20it/s which is just horrendous given I'm only detecing lane lines. This could be due to a variety of factors including running inside Jupyter, but I know this needs to be sped up by a factor of 10x or more. And then one thing I need to do is clean up the globals. Right now, a long video woudl just pile up and I really only need to keep the last 8 frames worth of line data but I didn't get around to doing that.\n",
    "\n",
    "Finally, in terms of the work required to do this, the algorithm itself was relatively easy and I think I had figured it out within 5-10 minutes of looking at this notebook. It then took me over 20 hours of work to get the algorithm implemented and tested. Most of this was fighting with setup issues, Python and library syntax, data types, image format issues, etc. The parameter tweaking probably only took me an hour in total. Hope future projects go easier than this one. What a learning experience for the first week."
   ]
  },
  {
   "cell_type": "markdown",
   "metadata": {},
   "source": [
    "\n",
    "## Submission\n",
    "\n",
    "If you're satisfied with your video outputs it's time to submit!  Submit this ipython notebook for review.\n"
   ]
  },
  {
   "cell_type": "markdown",
   "metadata": {
    "collapsed": true
   },
   "source": [
    "## Optional Challenge\n",
    "\n",
    "Try your lane finding pipeline on the video below.  Does it still work?  Can you figure out a way to make it more robust?  If you're up for the challenge, modify your pipeline so it works with this video and submit it along with the rest of your project!"
   ]
  },
  {
   "cell_type": "code",
   "execution_count": null,
   "metadata": {
    "collapsed": false
   },
   "outputs": [],
   "source": [
    "clear_globals()\n",
    "challenge_output = 'extra.mp4'\n",
    "clip2 = VideoFileClip('challenge.mp4')\n",
    "challenge_clip = clip2.fl_image(process_image)\n",
    "%time challenge_clip.write_videofile(challenge_output, audio=False)"
   ]
  },
  {
   "cell_type": "code",
   "execution_count": null,
   "metadata": {
    "collapsed": false
   },
   "outputs": [],
   "source": [
    "HTML(\"\"\"\n",
    "<video width=\"960\" height=\"540\" controls>\n",
    "  <source src=\"{0}\">\n",
    "</video>\n",
    "\"\"\".format(challenge_output))"
   ]
  }
 ],
 "metadata": {
  "anaconda-cloud": {},
  "kernelspec": {
   "display_name": "Python 3",
   "language": "python",
   "name": "python3"
  },
  "language_info": {
   "codemirror_mode": {
    "name": "ipython",
    "version": 3
   },
   "file_extension": ".py",
   "mimetype": "text/x-python",
   "name": "python",
   "nbconvert_exporter": "python",
   "pygments_lexer": "ipython3",
   "version": "3.5.2"
  },
  "widgets": {
   "state": {},
   "version": "1.1.2"
  }
 },
 "nbformat": 4,
 "nbformat_minor": 0
}
